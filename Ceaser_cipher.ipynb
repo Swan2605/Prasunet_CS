{
 "cells": [
  {
   "cell_type": "code",
   "execution_count": 1,
   "id": "a5263ab8-5739-47ef-8831-567ab7acc414",
   "metadata": {},
   "outputs": [
    {
     "name": "stdin",
     "output_type": "stream",
     "text": [
      "Do you want to (E)ncrypt or (D)ecrypt? Enter 'Q' to quit:  e\n",
      "Enter the message:  Hello there!!!\n",
      "Enter the shift value:  98765432123456\n"
     ]
    },
    {
     "name": "stdout",
     "output_type": "stream",
     "text": [
      "Encrypted Message: Byffi nbyly!!!\n",
      "Decrypted Message: Hello there!!!\n"
     ]
    },
    {
     "name": "stdin",
     "output_type": "stream",
     "text": [
      "Do you want to (E)ncrypt or (D)ecrypt? Enter 'Q' to quit:  e\n",
      "Enter the message:  I am fine How are you?\n",
      "Enter the shift value:  2345678901123456789023\n"
     ]
    },
    {
     "name": "stdout",
     "output_type": "stream",
     "text": [
      "Encrypted Message: L dp ilqh Krz duh brx?\n",
      "Decrypted Message: I am fine How are you?\n"
     ]
    },
    {
     "name": "stdin",
     "output_type": "stream",
     "text": [
      "Do you want to (E)ncrypt or (D)ecrypt? Enter 'Q' to quit:  d\n",
      "Enter the message:  Byffi nbyly!!!\n",
      "Enter the shift value:  98765432123456\n"
     ]
    },
    {
     "name": "stdout",
     "output_type": "stream",
     "text": [
      "Decrypted Message: Hello there!!!\n",
      "Encrypted Message: Byffi nbyly!!!\n"
     ]
    },
    {
     "name": "stdin",
     "output_type": "stream",
     "text": [
      "Do you want to (E)ncrypt or (D)ecrypt? Enter 'Q' to quit:  q\n"
     ]
    },
    {
     "name": "stdout",
     "output_type": "stream",
     "text": [
      "Exiting the program. Goodbye!\n"
     ]
    }
   ],
   "source": [
    "def encrypt(text, shift):\n",
    "    result = \"\"\n",
    "    \n",
    "    # Traverse the text\n",
    "    for i in range(len(text)):\n",
    "        char = text[i]\n",
    "        \n",
    "        # Encrypt uppercase characters\n",
    "        if char.isupper():\n",
    "            result += chr((ord(char) + shift - 65) % 26 + 65)\n",
    "        \n",
    "        # Encrypt lowercase characters\n",
    "        elif char.islower():\n",
    "            result += chr((ord(char) + shift - 97) % 26 + 97)\n",
    "        \n",
    "        # If it's neither uppercase nor lowercase, leave it as is (e.g., space, punctuation)\n",
    "        else:\n",
    "            result += char\n",
    "    \n",
    "    return result\n",
    "\n",
    "def decrypt(text, shift):\n",
    "    # To decrypt, just use the negative of the shift value\n",
    "    return encrypt(text, -shift)\n",
    "\n",
    "def main():\n",
    "    while True:\n",
    "        # User input\n",
    "        choice = input(\"Do you want to (E)ncrypt or (D)ecrypt? Enter 'Q' to quit: \").strip().lower()\n",
    "\n",
    "        if choice == 'q':\n",
    "            print(\"Exiting the program. Goodbye!\")\n",
    "            break\n",
    "        elif choice not in ['e', 'd']:\n",
    "            print(\"Invalid choice. Please choose 'E' for encrypt, 'D' for decrypt, or 'Q' to quit.\")\n",
    "            continue\n",
    "\n",
    "        message = input(\"Enter the message: \")\n",
    "        shift = int(input(\"Enter the shift value: \"))\n",
    "\n",
    "        if choice == 'e':\n",
    "            # Encrypt the message\n",
    "            encrypted_message = encrypt(message, shift)\n",
    "            print(f\"Encrypted Message: {encrypted_message}\")\n",
    "\n",
    "            # Show decrypted message\n",
    "            decrypted_message = decrypt(encrypted_message, shift)\n",
    "            print(f\"Decrypted Message: {decrypted_message}\")\n",
    "\n",
    "        elif choice == 'd':\n",
    "            # Decrypt the message\n",
    "            decrypted_message = decrypt(message, shift)\n",
    "            print(f\"Decrypted Message: {decrypted_message}\")\n",
    "\n",
    "            # Show encrypted message\n",
    "            encrypted_message = encrypt(decrypted_message, shift)\n",
    "            print(f\"Encrypted Message: {encrypted_message}\")\n",
    "\n",
    "if __name__ == \"__main__\":\n",
    "    main()\n"
   ]
  },
  {
   "cell_type": "code",
   "execution_count": null,
   "id": "234a711e-1297-49cb-a130-38e2af5dcb16",
   "metadata": {},
   "outputs": [],
   "source": []
  }
 ],
 "metadata": {
  "kernelspec": {
   "display_name": "Python 3 (ipykernel)",
   "language": "python",
   "name": "python3"
  },
  "language_info": {
   "codemirror_mode": {
    "name": "ipython",
    "version": 3
   },
   "file_extension": ".py",
   "mimetype": "text/x-python",
   "name": "python",
   "nbconvert_exporter": "python",
   "pygments_lexer": "ipython3",
   "version": "3.11.5"
  }
 },
 "nbformat": 4,
 "nbformat_minor": 5
}
