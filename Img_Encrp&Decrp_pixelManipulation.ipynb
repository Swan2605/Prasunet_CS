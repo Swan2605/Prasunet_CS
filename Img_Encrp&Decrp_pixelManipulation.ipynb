{
 "cells": [
  {
   "cell_type": "code",
   "execution_count": 2,
   "id": "6af095fc-0d7c-40df-9c23-48b1a371884e",
   "metadata": {},
   "outputs": [
    {
     "name": "stdout",
     "output_type": "stream",
     "text": [
      "Image encrypted and saved as encrypted_image.png\n",
      "Image decrypted and saved as decrypted_image.png\n"
     ]
    }
   ],
   "source": [
    "#This code is for the automatic generation of encrypted and decrypted img of real img...\n",
    "from PIL import Image\n",
    "import numpy as np\n",
    "\n",
    "def encrypt_image(image_path, key):\n",
    "    image = Image.open(image_path)\n",
    "    pixels = np.array(image)\n",
    "    \n",
    "    encrypted_pixels = (pixels + key) % 256  \n",
    "\n",
    "    encrypted_image = Image.fromarray(np.uint8(encrypted_pixels))\n",
    "\n",
    "    encrypted_image_path = \"encrypted_image.png\"\n",
    "    encrypted_image.save(encrypted_image_path)\n",
    "    \n",
    "    print(f\"Image encrypted and saved as {encrypted_image_path}\")\n",
    "\n",
    "def decrypt_image(encrypted_image_path, key):\n",
    "    image = Image.open(encrypted_image_path)\n",
    "    pixels = np.array(image)\n",
    "    \n",
    "    decrypted_pixels = (pixels - key) % 256  \n",
    "\n",
    "    decrypted_image = Image.fromarray(np.uint8(decrypted_pixels))\n",
    "\n",
    "    decrypted_image_path = \"decrypted_image.png\"\n",
    "    decrypted_image.save(decrypted_image_path)\n",
    "    \n",
    "    print(f\"Image decrypted and saved as {decrypted_image_path}\")\n",
    "\n",
    "if __name__ == \"__main__\":\n",
    "    original_image_path = \"mitwpulogo.png\"  #you have to add the img name with extension \n",
    "    encryption_key = 50 \n",
    "    \n",
    "    encrypt_image(original_image_path, encryption_key)\n",
    "    decrypt_image(\"encrypted_image.png\", encryption_key)\n"
   ]
  },
  {
   "cell_type": "code",
   "execution_count": 3,
   "id": "34433218-6f66-4507-870b-6adc65aa777a",
   "metadata": {},
   "outputs": [
    {
     "name": "stdin",
     "output_type": "stream",
     "text": [
      "Do you want to (E)ncrypt or (D)ecrypt an image?  e\n",
      "Enter the image filename (with extension):  mitwpulogo.png\n",
      "Enter the encryption/decryption key (an integer):  1\n"
     ]
    },
    {
     "name": "stdout",
     "output_type": "stream",
     "text": [
      "Image saved as encrypted_mitwpulogo.png\n"
     ]
    }
   ],
   "source": [
    "#This code is for the generation of encryption and decrypion according to  the need \n",
    "from PIL import Image\n",
    "\n",
    "def encrypt_image(image_path, key, output_prefix=\"encrypted_\"):\n",
    "    image = Image.open(image_path)\n",
    "    pixels = image.load()\n",
    "    \n",
    "    width, height = image.size\n",
    "    for x in range(width):\n",
    "        for y in range(height):\n",
    "            r, g, b, *rest = pixels[x, y]  \n",
    "            encrypted_pixel = (r ^ key, g ^ key, b ^ key)\n",
    "            if rest: \n",
    "                encrypted_pixel += (rest[0],)\n",
    "            pixels[x, y] = encrypted_pixel\n",
    "    \n",
    "    output_image_path = output_prefix + image_path\n",
    "    image.save(output_image_path)\n",
    "    print(f\"Image saved as {output_image_path}\")\n",
    "\n",
    "def decrypt_image(image_path, key):\n",
    "    encrypt_image(image_path, key, output_prefix=\"decrypted_\")\n",
    "\n",
    "def main():\n",
    "    choice = input(\"Do you want to (E)ncrypt or (D)ecrypt an image? \").strip().lower()\n",
    "\n",
    "    if choice not in ['e', 'd']:\n",
    "        print(\"Invalid choice. Please choose 'E' for encrypt or 'D' for decrypt.\")\n",
    "        return\n",
    "\n",
    "    image_path = input(\"Enter the image filename (with extension): \")\n",
    "    key = int(input(\"Enter the encryption/decryption key (an integer): \"))\n",
    "\n",
    "    if choice == 'e':\n",
    "        encrypt_image(image_path, key)\n",
    "    elif choice == 'd':\n",
    "        decrypt_image(image_path, key)\n",
    "\n",
    "if __name__ == \"__main__\":\n",
    "    main()\n"
   ]
  },
  {
   "cell_type": "code",
   "execution_count": null,
   "id": "3d48ad29-2778-48e4-b83d-58ab0b2a3559",
   "metadata": {},
   "outputs": [],
   "source": []
  }
 ],
 "metadata": {
  "kernelspec": {
   "display_name": "Python 3 (ipykernel)",
   "language": "python",
   "name": "python3"
  },
  "language_info": {
   "codemirror_mode": {
    "name": "ipython",
    "version": 3
   },
   "file_extension": ".py",
   "mimetype": "text/x-python",
   "name": "python",
   "nbconvert_exporter": "python",
   "pygments_lexer": "ipython3",
   "version": "3.11.5"
  }
 },
 "nbformat": 4,
 "nbformat_minor": 5
}
